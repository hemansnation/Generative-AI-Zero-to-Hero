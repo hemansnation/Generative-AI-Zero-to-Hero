{
 "cells": [
  {
   "cell_type": "markdown",
   "id": "c04ca82e",
   "metadata": {},
   "source": [
    "### Installation\n",
    "\n",
    "To get started with Jupyter Notebook, follow these steps →\n",
    "\n",
    "1. Open your browser and search for \"Anaconda Navigator download for Windows\". Click on the first link, which will take you to the Anaconda website. Download and install the software.\n",
    "2. Once installed, open Anaconda Navigator. You'll see various software options like PyCharm and Jupyter Lab. Click on \"Install\" or \"Launch\" for Jupyter Notebook.\n",
    "3. Launching Jupyter Notebook will open a localhost webpage. Localhost means it creates a local server on your system, allowing you to view and manage your files.\n",
    "4. To create a new notebook, click \"New\" and select the desired kernel (in this case, Python). Your new notebook will have an. ipynb extension."
   ]
  },
  {
   "cell_type": "code",
   "execution_count": null,
   "id": "f630ef7e",
   "metadata": {},
   "outputs": [],
   "source": []
  },
  {
   "cell_type": "markdown",
   "id": "aa348048",
   "metadata": {},
   "source": [
    "# Table of Content\n",
    "\n",
    "\n",
    "### Module 1 - GenerativeAI Fundamentals\n",
    "\n",
    "1. Introduction to AI and its Evolution\n",
    "2. Machine Learning vs Deep Learning vs GenerativeAI\n",
    "3. What is GenerativeAI and Its Real-World Applications\n",
    "4. NLP Fundamentals and How to Build a Text Pre-processing Pipeline\n",
    "5. Text Normalization and Tokenization\n",
    "6. Embedding and Word2Vec"
   ]
  },
  {
   "cell_type": "code",
   "execution_count": null,
   "id": "4359b0e5",
   "metadata": {},
   "outputs": [],
   "source": []
  },
  {
   "cell_type": "markdown",
   "id": "fb4d704d",
   "metadata": {},
   "source": [
    "## 1. Introduction to AI and Its Evolution"
   ]
  },
  {
   "cell_type": "code",
   "execution_count": null,
   "id": "d8017b5a",
   "metadata": {},
   "outputs": [],
   "source": []
  },
  {
   "cell_type": "code",
   "execution_count": null,
   "id": "5065f061",
   "metadata": {},
   "outputs": [],
   "source": []
  },
  {
   "cell_type": "code",
   "execution_count": null,
   "id": "9de2efab",
   "metadata": {},
   "outputs": [],
   "source": []
  },
  {
   "cell_type": "code",
   "execution_count": null,
   "id": "d3033b02",
   "metadata": {},
   "outputs": [],
   "source": []
  },
  {
   "cell_type": "code",
   "execution_count": null,
   "id": "b72cdda7",
   "metadata": {},
   "outputs": [],
   "source": []
  },
  {
   "cell_type": "code",
   "execution_count": null,
   "id": "01b98d60",
   "metadata": {},
   "outputs": [],
   "source": []
  },
  {
   "cell_type": "code",
   "execution_count": null,
   "id": "8bca60d3",
   "metadata": {},
   "outputs": [],
   "source": []
  },
  {
   "cell_type": "code",
   "execution_count": null,
   "id": "a2203b7a",
   "metadata": {},
   "outputs": [],
   "source": []
  },
  {
   "cell_type": "code",
   "execution_count": null,
   "id": "75d8eced",
   "metadata": {},
   "outputs": [],
   "source": []
  },
  {
   "cell_type": "code",
   "execution_count": null,
   "id": "ee1cc529",
   "metadata": {},
   "outputs": [],
   "source": []
  },
  {
   "cell_type": "code",
   "execution_count": null,
   "id": "ee6a28d4",
   "metadata": {},
   "outputs": [],
   "source": []
  }
 ],
 "metadata": {
  "kernelspec": {
   "display_name": "Python 3 (ipykernel)",
   "language": "python",
   "name": "python3"
  },
  "language_info": {
   "codemirror_mode": {
    "name": "ipython",
    "version": 3
   },
   "file_extension": ".py",
   "mimetype": "text/x-python",
   "name": "python",
   "nbconvert_exporter": "python",
   "pygments_lexer": "ipython3",
   "version": "3.9.12"
  }
 },
 "nbformat": 4,
 "nbformat_minor": 5
}
